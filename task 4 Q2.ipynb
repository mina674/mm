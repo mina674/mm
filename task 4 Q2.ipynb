{
 "cells": [
  {
   "cell_type": "code",
   "execution_count": 20,
   "metadata": {},
   "outputs": [
    {
     "name": "stdout",
     "output_type": "stream",
     "text": [
      "25\n",
      "2\n",
      "48\n",
      "1.75\n",
      "Error! Division by zero is not allowed.\n",
      "Invalid operation! Please choose 'add', 'subtract', 'multiply', or 'divide'.\n"
     ]
    }
   ],
   "source": [
    "def calculator(a, b, operation):\n",
    "    if operation == \"add\":\n",
    "        return a + b\n",
    "    elif operation == \"subtract\":\n",
    "        return a - b\n",
    "    elif operation == \"multiply\":\n",
    "        return a * b\n",
    "    elif operation == \"divide\":\n",
    "        if b == 0:\n",
    "            return \"Error! Division by zero is not allowed.\"\n",
    "        else:\n",
    "            return a / b\n",
    "    else:\n",
    "        return \"Invalid operation! Please choose 'add', 'subtract', 'multiply', or 'divide'.\" \n",
    "print(calculator(20, 5, \"add\"))     \n",
    "print(calculator(10, 8, \"subtract\"))  \n",
    "print(calculator(8, 6, \"multiply\"))                 \n",
    "print(calculator(14, 8, \"divide\"))                  \n",
    "print(calculator(2, 0, \"divide\"))                \n",
    "print(calculator(10, 10, \"modulus\"))                     \n",
    "\n"
   ]
  }
 ],
 "metadata": {
  "kernelspec": {
   "display_name": "Python 3",
   "language": "python",
   "name": "python3"
  },
  "language_info": {
   "codemirror_mode": {
    "name": "ipython",
    "version": 3
   },
   "file_extension": ".py",
   "mimetype": "text/x-python",
   "name": "python",
   "nbconvert_exporter": "python",
   "pygments_lexer": "ipython3",
   "version": "3.13.1"
  }
 },
 "nbformat": 4,
 "nbformat_minor": 2
}
